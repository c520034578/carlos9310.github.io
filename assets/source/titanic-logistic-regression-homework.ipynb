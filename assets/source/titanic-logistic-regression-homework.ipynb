{
 "cells": [
  {
   "cell_type": "markdown",
   "metadata": {
    "_cell_guid": "cb19f71d-51c8-417f-829e-3179d3319dcd",
    "_uuid": "c3b9226e142667d6b96e34daf7d6e42bea0ea1e2"
   },
   "source": [
    "# **通过Logistic Regression预测Titanic乘客是否能在事故中生还**\n",
    "\n",
    "1. [导入工具库和数据](#t1.)\n",
    "2. [查看缺失数据](#t2.)\n",
    "    * 2.1. [年龄](#t2.1.)\n",
    "    * 2.2. [仓位](#t2.2.)\n",
    "    * 2.3. [登船地点](#t2.3.)\n",
    "    * 2.4. [对数据进行调整](#t2.4.)\n",
    "        * 2.4.1 [额外的变量](#t2.4.1.)\n",
    "3. [数据分析](#t3.)\n",
    "4. [Logistic Regression](#t4.)\n",
    "    "
   ]
  },
  {
   "cell_type": "markdown",
   "metadata": {
    "_cell_guid": "33c91cae-2ff8-45a6-b8cb-671619e9c933",
    "_uuid": "0a395fd25f20834b070ef55cb8987c8c1f9b55f9"
   },
   "source": [
    "<a id=\"t1.\"></a>\n",
    "# 1. 导入工具库和数据"
   ]
  },
  {
   "cell_type": "code",
   "execution_count": 1,
   "metadata": {
    "_cell_guid": "de05512e-6991-44df-9599-da92a7e459ac",
    "_uuid": "d8bdd5f0320e244e4702ed8ec1c2482b022c51cd"
   },
   "outputs": [],
   "source": [
    "import numpy as np \n",
    "import pandas as pd \n",
    "\n",
    "from sklearn import preprocessing\n",
    "import matplotlib.pyplot as plt \n",
    "plt.rc(\"font\", size=14)\n",
    "import seaborn as sns\n",
    "sns.set(style=\"white\") #设置seaborn画图的背景为白色\n",
    "sns.set(style=\"whitegrid\", color_codes=True)"
   ]
  },
  {
   "cell_type": "code",
   "execution_count": 2,
   "metadata": {
    "_cell_guid": "e0a17223-f682-45fc-89a5-667af9782bbe",
    "_uuid": "7964157913fbcff581fc1929eed487708e81ac9c"
   },
   "outputs": [
    {
     "data": {
      "text/html": [
       "<div>\n",
       "<style scoped>\n",
       "    .dataframe tbody tr th:only-of-type {\n",
       "        vertical-align: middle;\n",
       "    }\n",
       "\n",
       "    .dataframe tbody tr th {\n",
       "        vertical-align: top;\n",
       "    }\n",
       "\n",
       "    .dataframe thead th {\n",
       "        text-align: right;\n",
       "    }\n",
       "</style>\n",
       "<table border=\"1\" class=\"dataframe\">\n",
       "  <thead>\n",
       "    <tr style=\"text-align: right;\">\n",
       "      <th></th>\n",
       "      <th>pclass</th>\n",
       "      <th>survived</th>\n",
       "      <th>name</th>\n",
       "      <th>sex</th>\n",
       "      <th>age</th>\n",
       "      <th>sibsp</th>\n",
       "      <th>parch</th>\n",
       "      <th>ticket</th>\n",
       "      <th>fare</th>\n",
       "      <th>cabin</th>\n",
       "      <th>embarked</th>\n",
       "    </tr>\n",
       "  </thead>\n",
       "  <tbody>\n",
       "    <tr>\n",
       "      <th>0</th>\n",
       "      <td>1.0</td>\n",
       "      <td>1.0</td>\n",
       "      <td>Allen, Miss. Elisabeth Walton</td>\n",
       "      <td>female</td>\n",
       "      <td>29.0000</td>\n",
       "      <td>0.0</td>\n",
       "      <td>0.0</td>\n",
       "      <td>24160</td>\n",
       "      <td>211.3375</td>\n",
       "      <td>B5</td>\n",
       "      <td>S</td>\n",
       "    </tr>\n",
       "    <tr>\n",
       "      <th>1</th>\n",
       "      <td>1.0</td>\n",
       "      <td>1.0</td>\n",
       "      <td>Allison, Master. Hudson Trevor</td>\n",
       "      <td>male</td>\n",
       "      <td>0.9167</td>\n",
       "      <td>1.0</td>\n",
       "      <td>2.0</td>\n",
       "      <td>113781</td>\n",
       "      <td>151.5500</td>\n",
       "      <td>C22 C26</td>\n",
       "      <td>S</td>\n",
       "    </tr>\n",
       "    <tr>\n",
       "      <th>2</th>\n",
       "      <td>1.0</td>\n",
       "      <td>0.0</td>\n",
       "      <td>Allison, Miss. Helen Loraine</td>\n",
       "      <td>female</td>\n",
       "      <td>2.0000</td>\n",
       "      <td>1.0</td>\n",
       "      <td>2.0</td>\n",
       "      <td>113781</td>\n",
       "      <td>151.5500</td>\n",
       "      <td>C22 C26</td>\n",
       "      <td>S</td>\n",
       "    </tr>\n",
       "    <tr>\n",
       "      <th>3</th>\n",
       "      <td>1.0</td>\n",
       "      <td>0.0</td>\n",
       "      <td>Allison, Mr. Hudson Joshua Creighton</td>\n",
       "      <td>male</td>\n",
       "      <td>30.0000</td>\n",
       "      <td>1.0</td>\n",
       "      <td>2.0</td>\n",
       "      <td>113781</td>\n",
       "      <td>151.5500</td>\n",
       "      <td>C22 C26</td>\n",
       "      <td>S</td>\n",
       "    </tr>\n",
       "    <tr>\n",
       "      <th>4</th>\n",
       "      <td>1.0</td>\n",
       "      <td>0.0</td>\n",
       "      <td>Allison, Mrs. Hudson J C (Bessie Waldo Daniels)</td>\n",
       "      <td>female</td>\n",
       "      <td>25.0000</td>\n",
       "      <td>1.0</td>\n",
       "      <td>2.0</td>\n",
       "      <td>113781</td>\n",
       "      <td>151.5500</td>\n",
       "      <td>C22 C26</td>\n",
       "      <td>S</td>\n",
       "    </tr>\n",
       "  </tbody>\n",
       "</table>\n",
       "</div>"
      ],
      "text/plain": [
       "   pclass  survived                                             name     sex  \\\n",
       "0     1.0       1.0                    Allen, Miss. Elisabeth Walton  female   \n",
       "1     1.0       1.0                   Allison, Master. Hudson Trevor    male   \n",
       "2     1.0       0.0                     Allison, Miss. Helen Loraine  female   \n",
       "3     1.0       0.0             Allison, Mr. Hudson Joshua Creighton    male   \n",
       "4     1.0       0.0  Allison, Mrs. Hudson J C (Bessie Waldo Daniels)  female   \n",
       "\n",
       "       age  sibsp  parch  ticket      fare    cabin embarked  \n",
       "0  29.0000    0.0    0.0   24160  211.3375       B5        S  \n",
       "1   0.9167    1.0    2.0  113781  151.5500  C22 C26        S  \n",
       "2   2.0000    1.0    2.0  113781  151.5500  C22 C26        S  \n",
       "3  30.0000    1.0    2.0  113781  151.5500  C22 C26        S  \n",
       "4  25.0000    1.0    2.0  113781  151.5500  C22 C26        S  "
      ]
     },
     "execution_count": 2,
     "metadata": {},
     "output_type": "execute_result"
    }
   ],
   "source": [
    "# 将数据读入 DataFrame\n",
    "df = pd.read_csv(\"./titanic_data.csv\")\n",
    "\n",
    "# 预览数据\n",
    "df.head()"
   ]
  },
  {
   "cell_type": "code",
   "execution_count": 3,
   "metadata": {
    "_cell_guid": "872d0de9-a873-4b60-b1ee-d557ee39d8a1",
    "_uuid": "d38222a64d4dfd1d1ee1a7ee1f58c4aa54560de3"
   },
   "outputs": [
    {
     "name": "stdout",
     "output_type": "stream",
     "text": [
      "数据集包含的数据个数 1310.\n"
     ]
    }
   ],
   "source": [
    "print('数据集包含的数据个数 {}.'.format(df.shape[0]))"
   ]
  },
  {
   "cell_type": "markdown",
   "metadata": {
    "_cell_guid": "6578c0da-7bcf-433d-9f28-a66d8dfa6fa3",
    "_uuid": "8660e63a62c2fcdb4f7633380166438caf5edae9"
   },
   "source": [
    "<a id=\"t2.\"></a>\n",
    "# 2. 查看缺失数据"
   ]
  },
  {
   "cell_type": "code",
   "execution_count": 4,
   "metadata": {
    "_cell_guid": "29dddd33-d995-4b0f-92ea-a361b368cc42",
    "_uuid": "d4fe22ead7e187724ca6f3ba7ba0e6412ae0e874"
   },
   "outputs": [
    {
     "data": {
      "text/plain": [
       "pclass         1\n",
       "survived       1\n",
       "name           1\n",
       "sex            1\n",
       "age          264\n",
       "sibsp          1\n",
       "parch          1\n",
       "ticket         1\n",
       "fare           2\n",
       "cabin       1015\n",
       "embarked       3\n",
       "dtype: int64"
      ]
     },
     "execution_count": 4,
     "metadata": {},
     "output_type": "execute_result"
    }
   ],
   "source": [
    "# 查看数据集中各个特征缺失的情况\n",
    "df.isnull().sum()"
   ]
  },
  {
   "cell_type": "markdown",
   "metadata": {
    "_cell_guid": "7776faeb-6a8f-4460-a367-4b087d2cc089",
    "_uuid": "696b428bd3ca49421f650665267ce7ca1b358814"
   },
   "source": [
    "<a id=\"t2.1.\"></a>\n",
    "## 2.1.    年龄"
   ]
  },
  {
   "cell_type": "code",
   "execution_count": 5,
   "metadata": {
    "_cell_guid": "d4ee6559-6d0c-409d-9dca-1d105a4ccd8a",
    "_uuid": "129cf984d05d9ce97c54548145e65f9e4b9b0c37"
   },
   "outputs": [
    {
     "name": "stdout",
     "output_type": "stream",
     "text": [
      "\"age\" 缺失的百分比  20.15%\n"
     ]
    }
   ],
   "source": [
    "# \"age\" 缺失的百分比 \n",
    "print('\"age\" 缺失的百分比  %.2f%%' %((df['age'].isnull().sum()/df.shape[0])*100))"
   ]
  },
  {
   "cell_type": "markdown",
   "metadata": {
    "_cell_guid": "951f7bb8-779c-4eac-85a2-3fdcfdcd293e",
    "_uuid": "c8fff460fb532a063f6944450809014ca831ca52"
   },
   "source": [
    "约 20% 的乘客的年龄缺失了. 看一看年龄的分别情况."
   ]
  },
  {
   "cell_type": "code",
   "execution_count": 6,
   "metadata": {
    "_cell_guid": "6d65fcfa-52bf-45ab-b959-64a32c1c1976",
    "_uuid": "c6fd60f15d5e803d4dffc89e782c6fbc72445a83"
   },
   "outputs": [
    {
     "data": {
      "image/png": "[encoded data removed]",
      "text/plain": [
       "<Figure size 432x288 with 1 Axes>"
      ]
     },
     "metadata": {
      "needs_background": "light"
     },
     "output_type": "display_data"
    }
   ],
   "source": [
    "ax = df[\"age\"].hist(bins=15, color='teal', alpha=0.6)\n",
    "ax.set(xlabel='age')\n",
    "plt.xlim(-10,85)\n",
    "plt.show()"
   ]
  },
  {
   "cell_type": "markdown",
   "metadata": {
    "_cell_guid": "e62d6951-d968-43ba-aabf-add90524d042",
    "_uuid": "24c201948b9c8c8076ab01271a4790d9db9096b5"
   },
   "source": [
    "由于“年龄”的偏度不为0, 使用均值替代缺失值不是最佳选择, 这里可以选择使用中间值替代缺失值\n",
    "\n",
    "\n",
    "<font color=red> 注: 在概率论和统计学中，偏度衡量实数随机变量概率分布的不对称性。偏度的值可以为正，可以为负或者甚至是无法定义。在数量上，偏度为负（负偏态）就意味着在概率密度函数左侧的尾部比右侧的长，绝大多数的值（不一定包括中位数在内）位于平均值的右侧。偏度为正（正偏态）就意味着在概率密度函数右侧的尾部比左侧的长，绝大多数的值（不一定包括中位数）位于平均值的左侧。偏度为零就表示数值相对均匀地分布在平均值的两侧，但不一定意味着其为对称分布。</font>"
   ]
  },
  {
   "cell_type": "code",
   "execution_count": 7,
   "metadata": {
    "_cell_guid": "1d70c27b-1e4d-4d5e-8a39-c134389d436c",
    "_uuid": "4f13840d4f9bf1b4331523c99274aa0627485e6c"
   },
   "outputs": [
    {
     "name": "stdout",
     "output_type": "stream",
     "text": [
      "The mean of \"Age\" is 29.88\n",
      "The median of \"Age\" is 28.00\n"
     ]
    }
   ],
   "source": [
    "# 年龄的均值\n",
    "print('The mean of \"Age\" is %.2f' %(df[\"age\"].mean(skipna=True)))\n",
    "# 年龄的中间值\n",
    "print('The median of \"Age\" is %.2f' %(df[\"age\"].median(skipna=True)))"
   ]
  },
  {
   "cell_type": "markdown",
   "metadata": {
    "_cell_guid": "dea7b01c-c8c1-401f-a336-36ee73de2222",
    "_uuid": "e1a08114e302ddc90266e5f065b3f0b5a200bc89"
   },
   "source": [
    "<a id=\"t2.2.\"></a>\n",
    "## 2.2. 仓位"
   ]
  },
  {
   "cell_type": "code",
   "execution_count": 8,
   "metadata": {
    "_cell_guid": "1a1ad808-0a63-43ac-b757-71195880ed4f",
    "_uuid": "1acbce9c6bc5d586dda3e47b7506067a85524e66"
   },
   "outputs": [
    {
     "name": "stdout",
     "output_type": "stream",
     "text": [
      "\"Cabin\" 缺失的百分比 77.48%\n"
     ]
    }
   ],
   "source": [
    "# 仓位缺失的百分比\n",
    "print('\"Cabin\" 缺失的百分比 %.2f%%' %((df['cabin'].isnull().sum()/df.shape[0])*100))"
   ]
  },
  {
   "cell_type": "markdown",
   "metadata": {
    "_cell_guid": "eda8c434-63ff-4875-8566-2e194c0d3f66",
    "_uuid": "b6e037c7ac5ec476516031a06b042d8b9999ba44"
   },
   "source": [
    "约 77% 的乘客的仓位都是缺失的, 最佳的选择是不使用这个特征的值."
   ]
  },
  {
   "cell_type": "markdown",
   "metadata": {
    "_cell_guid": "0e696cff-ca80-4cb5-862c-ee80f4b1ab1f",
    "_uuid": "d575319b1f528c7a153d8ab680282048cb163b14"
   },
   "source": [
    "<a id=\"t2.3.\"></a>\n",
    "## 2.3. 登船地点"
   ]
  },
  {
   "cell_type": "code",
   "execution_count": 9,
   "metadata": {
    "_cell_guid": "f21c2b55-2126-439d-8b1d-e96dafc97d81",
    "_uuid": "92ab9e62fb62f2a0fb9972baf6ada444187540e6"
   },
   "outputs": [
    {
     "name": "stdout",
     "output_type": "stream",
     "text": [
      "\"Embarked\" 缺失的百分比 0.23%\n"
     ]
    }
   ],
   "source": [
    "# 登船地点的缺失率\n",
    "print('\"Embarked\" 缺失的百分比 %.2f%%' %((df['embarked'].isnull().sum()/df.shape[0])*100))"
   ]
  },
  {
   "cell_type": "markdown",
   "metadata": {
    "_cell_guid": "d03a4187-c527-4f71-8260-0495f4523e9e",
    "_uuid": "dc97b80524057522f024d0ae6f1abe77cb994903"
   },
   "source": [
    "只有 0.23% 的乘客的登船地点数据缺失, 可以使用众数替代缺失的值."
   ]
  },
  {
   "cell_type": "code",
   "execution_count": 10,
   "metadata": {
    "_cell_guid": "22924bc4-5dfa-4df7-b0d0-de3ede9c58b7",
    "_uuid": "f2a915f45264f8a580de6cc382d96b370eb75730"
   },
   "outputs": [
    {
     "name": "stdout",
     "output_type": "stream",
     "text": [
      "按照登船地点分组 (C = Cherbourg, Q = Queenstown, S = Southampton):\n",
      "S    914\n",
      "C    270\n",
      "Q    123\n",
      "Name: embarked, dtype: int64\n"
     ]
    },
    {
     "data": {
      "image/png": "[encoded data removed]",
      "text/plain": [
       "<Figure size 432x288 with 1 Axes>"
      ]
     },
     "metadata": {
      "needs_background": "light"
     },
     "output_type": "display_data"
    }
   ],
   "source": [
    "print('按照登船地点分组 (C = Cherbourg, Q = Queenstown, S = Southampton):')\n",
    "print(df['embarked'].value_counts())\n",
    "sns.countplot(x='embarked', data=df, palette='Set2')\n",
    "plt.show()"
   ]
  },
  {
   "cell_type": "code",
   "execution_count": 11,
   "metadata": {
    "_cell_guid": "def67427-3257-4dce-872e-7f5b4202d18a",
    "_uuid": "c57a9f8a54efa382bc94b695c9664330d01709ea"
   },
   "outputs": [
    {
     "name": "stdout",
     "output_type": "stream",
     "text": [
      "乘客登船地点的众数为 S.\n"
     ]
    }
   ],
   "source": [
    "print('乘客登船地点的众数为 %s.' %df['embarked'].value_counts().idxmax())"
   ]
  },
  {
   "cell_type": "markdown",
   "metadata": {
    "_cell_guid": "c4c55f99-ce99-44f9-b7a8-d4d623ae9295",
    "_uuid": "19cfaae8c484dcb1d00f69b2771e86dc249e9793"
   },
   "source": [
    "由于大多数人是在南安普顿(Southhampton)登船, 可以使用“S”替代缺失的数据值"
   ]
  },
  {
   "cell_type": "markdown",
   "metadata": {
    "_cell_guid": "684c308f-25ae-4039-9332-ddb58953a054",
    "_uuid": "3609e785d210d5a8110f7ce550e61007d066449b"
   },
   "source": [
    "<a id=\"t2.4.\"></a>\n",
    "## 2.4. 根据缺失数据情况调整数据"
   ]
  },
  {
   "cell_type": "markdown",
   "metadata": {
    "_cell_guid": "b3025cdc-fe9f-43b6-bda1-e45c1f25e77c",
    "_uuid": "06d2762ccec3f11564870fe941fc9ac45d71662f"
   },
   "source": [
    "基于以上分析, 我们进行如下调整:\n",
    "* 如果一条数据的 \"Age\" 缺失, 使用年龄的中位数 28 替代.\n",
    "* 如果一条数据的 \"Embarked\" 缺失, 使用登船地点的众数 “S” 替代.\n",
    "* 由于太多乘客的 “Cabin” 数据缺失, 从所有数据中丢弃这个特征的值."
   ]
  },
  {
   "cell_type": "code",
   "execution_count": 12,
   "metadata": {
    "_cell_guid": "bc0d7121-1008-4890-9043-07eba1524e15",
    "_uuid": "feeed4b6775f88edf5de12b0ee6ee73c16eba61d"
   },
   "outputs": [],
   "source": [
    "data = df.copy()\n",
    "data[\"age\"].fillna(df[\"age\"].median(skipna=True), inplace=True)\n",
    "data[\"embarked\"].fillna(df['embarked'].value_counts().idxmax(), inplace=True)\n",
    "data.drop('cabin', axis=1, inplace=True)"
   ]
  },
  {
   "cell_type": "code",
   "execution_count": 13,
   "metadata": {
    "_cell_guid": "0cfe1c08-71a6-493e-803d-db255af01697",
    "_uuid": "d6be29651bb903964e02d3a7bcc7033513eb76c9"
   },
   "outputs": [
    {
     "data": {
      "text/plain": [
       "pclass      1\n",
       "survived    1\n",
       "name        1\n",
       "sex         1\n",
       "age         0\n",
       "sibsp       1\n",
       "parch       1\n",
       "ticket      1\n",
       "fare        2\n",
       "embarked    0\n",
       "dtype: int64"
      ]
     },
     "execution_count": 13,
     "metadata": {},
     "output_type": "execute_result"
    }
   ],
   "source": [
    "# 确认数据是否还包含缺失数据\n",
    "data.isnull().sum()"
   ]
  },
  {
   "cell_type": "markdown",
   "metadata": {},
   "source": [
    "# 按照以上处理的方式, 处理仍然存在缺失数据的情况\n",
    "TODO:"
   ]
  },
  {
   "cell_type": "code",
   "execution_count": 14,
   "metadata": {},
   "outputs": [],
   "source": [
    "data[\"pclass\"].fillna(df['pclass'].value_counts().idxmax(), inplace=True)\n",
    "data[\"survived\"].fillna(df['survived'].value_counts().idxmax(), inplace=True)\n",
    "data[\"name\"].fillna(df['name'].value_counts().idxmax(), inplace=True)\n",
    "data[\"sex\"].fillna(df['sex'].value_counts().idxmax(), inplace=True)\n",
    "data[\"sibsp\"].fillna(df['sibsp'].value_counts().idxmax(), inplace=True)\n",
    "data[\"parch\"].fillna(df['parch'].value_counts().idxmax(), inplace=True)\n",
    "data[\"ticket\"].fillna(df['ticket'].value_counts().idxmax(), inplace=True)\n",
    "data[\"fare\"].fillna(df['fare'].value_counts().idxmax(), inplace=True)"
   ]
  },
  {
   "cell_type": "code",
   "execution_count": 15,
   "metadata": {
    "_cell_guid": "10dcfe1b-34f1-4bd8-b937-5ae8daf4a378",
    "_uuid": "3ee37b1151416aeeec8ebd7b94bb0184aabc57cd"
   },
   "outputs": [
    {
     "data": {
      "text/html": [
       "<div>\n",
       "<style scoped>\n",
       "    .dataframe tbody tr th:only-of-type {\n",
       "        vertical-align: middle;\n",
       "    }\n",
       "\n",
       "    .dataframe tbody tr th {\n",
       "        vertical-align: top;\n",
       "    }\n",
       "\n",
       "    .dataframe thead th {\n",
       "        text-align: right;\n",
       "    }\n",
       "</style>\n",
       "<table border=\"1\" class=\"dataframe\">\n",
       "  <thead>\n",
       "    <tr style=\"text-align: right;\">\n",
       "      <th></th>\n",
       "      <th>pclass</th>\n",
       "      <th>survived</th>\n",
       "      <th>name</th>\n",
       "      <th>sex</th>\n",
       "      <th>age</th>\n",
       "      <th>sibsp</th>\n",
       "      <th>parch</th>\n",
       "      <th>ticket</th>\n",
       "      <th>fare</th>\n",
       "      <th>embarked</th>\n",
       "    </tr>\n",
       "  </thead>\n",
       "  <tbody>\n",
       "    <tr>\n",
       "      <th>0</th>\n",
       "      <td>1.0</td>\n",
       "      <td>1.0</td>\n",
       "      <td>Allen, Miss. Elisabeth Walton</td>\n",
       "      <td>female</td>\n",
       "      <td>29.0000</td>\n",
       "      <td>0.0</td>\n",
       "      <td>0.0</td>\n",
       "      <td>24160</td>\n",
       "      <td>211.3375</td>\n",
       "      <td>S</td>\n",
       "    </tr>\n",
       "    <tr>\n",
       "      <th>1</th>\n",
       "      <td>1.0</td>\n",
       "      <td>1.0</td>\n",
       "      <td>Allison, Master. Hudson Trevor</td>\n",
       "      <td>male</td>\n",
       "      <td>0.9167</td>\n",
       "      <td>1.0</td>\n",
       "      <td>2.0</td>\n",
       "      <td>113781</td>\n",
       "      <td>151.5500</td>\n",
       "      <td>S</td>\n",
       "    </tr>\n",
       "    <tr>\n",
       "      <th>2</th>\n",
       "      <td>1.0</td>\n",
       "      <td>0.0</td>\n",
       "      <td>Allison, Miss. Helen Loraine</td>\n",
       "      <td>female</td>\n",
       "      <td>2.0000</td>\n",
       "      <td>1.0</td>\n",
       "      <td>2.0</td>\n",
       "      <td>113781</td>\n",
       "      <td>151.5500</td>\n",
       "      <td>S</td>\n",
       "    </tr>\n",
       "    <tr>\n",
       "      <th>3</th>\n",
       "      <td>1.0</td>\n",
       "      <td>0.0</td>\n",
       "      <td>Allison, Mr. Hudson Joshua Creighton</td>\n",
       "      <td>male</td>\n",
       "      <td>30.0000</td>\n",
       "      <td>1.0</td>\n",
       "      <td>2.0</td>\n",
       "      <td>113781</td>\n",
       "      <td>151.5500</td>\n",
       "      <td>S</td>\n",
       "    </tr>\n",
       "    <tr>\n",
       "      <th>4</th>\n",
       "      <td>1.0</td>\n",
       "      <td>0.0</td>\n",
       "      <td>Allison, Mrs. Hudson J C (Bessie Waldo Daniels)</td>\n",
       "      <td>female</td>\n",
       "      <td>25.0000</td>\n",
       "      <td>1.0</td>\n",
       "      <td>2.0</td>\n",
       "      <td>113781</td>\n",
       "      <td>151.5500</td>\n",
       "      <td>S</td>\n",
       "    </tr>\n",
       "  </tbody>\n",
       "</table>\n",
       "</div>"
      ],
      "text/plain": [
       "   pclass  survived                                             name     sex  \\\n",
       "0     1.0       1.0                    Allen, Miss. Elisabeth Walton  female   \n",
       "1     1.0       1.0                   Allison, Master. Hudson Trevor    male   \n",
       "2     1.0       0.0                     Allison, Miss. Helen Loraine  female   \n",
       "3     1.0       0.0             Allison, Mr. Hudson Joshua Creighton    male   \n",
       "4     1.0       0.0  Allison, Mrs. Hudson J C (Bessie Waldo Daniels)  female   \n",
       "\n",
       "       age  sibsp  parch  ticket      fare embarked  \n",
       "0  29.0000    0.0    0.0   24160  211.3375        S  \n",
       "1   0.9167    1.0    2.0  113781  151.5500        S  \n",
       "2   2.0000    1.0    2.0  113781  151.5500        S  \n",
       "3  30.0000    1.0    2.0  113781  151.5500        S  \n",
       "4  25.0000    1.0    2.0  113781  151.5500        S  "
      ]
     },
     "execution_count": 15,
     "metadata": {},
     "output_type": "execute_result"
    }
   ],
   "source": [
    "# 预览调整过的数据\n",
    "data.head()"
   ]
  },
  {
   "cell_type": "markdown",
   "metadata": {},
   "source": [
    "### 查看年龄在调整前后的分布"
   ]
  },
  {
   "cell_type": "code",
   "execution_count": 16,
   "metadata": {
    "_cell_guid": "dda26046-b93b-49ee-a52e-35355ecb425c",
    "_uuid": "293aec20df86ef529d10ae1f051dfe921ba07b88"
   },
   "outputs": [
    {
     "name": "stderr",
     "output_type": "stream",
     "text": [
      "D:\\Anaconda3\\lib\\site-packages\\matplotlib\\axes\\_axes.py:6521: MatplotlibDeprecationWarning: \n",
      "The 'normed' kwarg was deprecated in Matplotlib 2.1 and will be removed in 3.1. Use 'density' instead.\n",
      "  alternative=\"'density'\", removal=\"3.1\")\n",
      "D:\\Anaconda3\\lib\\site-packages\\matplotlib\\axes\\_axes.py:6521: MatplotlibDeprecationWarning: \n",
      "The 'normed' kwarg was deprecated in Matplotlib 2.1 and will be removed in 3.1. Use 'density' instead.\n",
      "  alternative=\"'density'\", removal=\"3.1\")\n"
     ]
    },
    {
     "data": {
      "image/png": "[encoded data removed]",
      "text/plain": [
       "<Figure size 1080x576 with 1 Axes>"
      ]
     },
     "metadata": {
      "needs_background": "light"
     },
     "output_type": "display_data"
    }
   ],
   "source": [
    "plt.figure(figsize=(15,8))\n",
    "ax = df[\"age\"].hist(bins=15, normed=True, stacked=True, color='teal', alpha=0.6)\n",
    "df[\"age\"].plot(kind='density', color='teal')\n",
    "ax = data[\"age\"].hist(bins=15, normed=True, stacked=True, color='orange', alpha=0.5)\n",
    "data[\"age\"].plot(kind='density', color='orange')\n",
    "ax.legend(['Raw Age', 'Adjusted Age'])\n",
    "ax.set(xlabel='Age')\n",
    "plt.xlim(-10,85)\n",
    "plt.show()"
   ]
  },
  {
   "cell_type": "markdown",
   "metadata": {
    "_cell_guid": "6925fcc2-977b-4369-85e1-77a9210326a7",
    "_uuid": "d8280757e6bc627821fb0540c87ccd6ca110f1e0"
   },
   "source": [
    "<a id=\"t2.4.1.\"></a>\n",
    "## 2.4.1. 其它特征的处理"
   ]
  },
  {
   "cell_type": "markdown",
   "metadata": {
    "_cell_guid": "5cf98f33-fdd5-4a16-b6bf-fa36bc8b84e0",
    "_uuid": "3bfdee842f11d27ca490f466c45ef9bf3673e7ae"
   },
   "source": [
    "数据中的两个特征 “sibsp” (一同登船的兄弟姐妹或者配偶数量)与“parch”(一同登船的父母或子女数量)都是代表是否有同伴同行. 为了预防这两个特征具有多重共线性, 我们可以将这两个变量转为一个变量 “TravelAlone” (是否独自一人成行)\n",
    "\n",
    "\n",
    "<font color='red'>注: 多重共线性(multicollinearity)是指多变量线性回归中，变量之间由于存在高度相关关系而使回归估计不准确。比如虚拟变量陷阱（英语：Dummy variable trap）即有可能触发多重共线性问题。</font>"
   ]
  },
  {
   "cell_type": "code",
   "execution_count": 17,
   "metadata": {
    "_cell_guid": "759c3c8e-8db6-41d9-a1a2-058a15b338a6",
    "_uuid": "d1f5815ba663f7e8cc17d7efcff73653af5b1bdb"
   },
   "outputs": [],
   "source": [
    "## 创建一个新的变量'TravelAlone'记录是否独自成行, 丢弃“sibsp” (一同登船的兄弟姐妹或者配偶数量)与“parch”(一同登船的父母或子女数量)\n",
    "data['TravelAlone']=np.where((data[\"sibsp\"]+data[\"parch\"])>0, 0, 1)\n",
    "data.drop('sibsp', axis=1, inplace=True)\n",
    "data.drop('parch', axis=1, inplace=True)"
   ]
  },
  {
   "cell_type": "markdown",
   "metadata": {
    "_cell_guid": "e4a22367-b719-4204-952f-d2e9a3b8075e",
    "_uuid": "ca53796bf788bd3b015f1a79a97e050bafa2c770"
   },
   "source": [
    "对类别变量(categorical variables)使用独热编码(One-Hot Encoding), 将字符串类别转换为数值"
   ]
  },
  {
   "cell_type": "code",
   "execution_count": 18,
   "metadata": {
    "_cell_guid": "f95361e8-2533-4731-a7ab-a99cf686ed50",
    "_uuid": "4494fcbf9faa90151e20042f74d73395fac3cc8e"
   },
   "outputs": [
    {
     "data": {
      "text/html": [
       "<div>\n",
       "<style scoped>\n",
       "    .dataframe tbody tr th:only-of-type {\n",
       "        vertical-align: middle;\n",
       "    }\n",
       "\n",
       "    .dataframe tbody tr th {\n",
       "        vertical-align: top;\n",
       "    }\n",
       "\n",
       "    .dataframe thead th {\n",
       "        text-align: right;\n",
       "    }\n",
       "</style>\n",
       "<table border=\"1\" class=\"dataframe\">\n",
       "  <thead>\n",
       "    <tr style=\"text-align: right;\">\n",
       "      <th></th>\n",
       "      <th>pclass</th>\n",
       "      <th>survived</th>\n",
       "      <th>age</th>\n",
       "      <th>fare</th>\n",
       "      <th>TravelAlone</th>\n",
       "      <th>embarked_C</th>\n",
       "      <th>embarked_Q</th>\n",
       "      <th>embarked_S</th>\n",
       "      <th>sex_female</th>\n",
       "      <th>sex_male</th>\n",
       "    </tr>\n",
       "  </thead>\n",
       "  <tbody>\n",
       "    <tr>\n",
       "      <th>0</th>\n",
       "      <td>1.0</td>\n",
       "      <td>1.0</td>\n",
       "      <td>29.0000</td>\n",
       "      <td>211.3375</td>\n",
       "      <td>1</td>\n",
       "      <td>0</td>\n",
       "      <td>0</td>\n",
       "      <td>1</td>\n",
       "      <td>1</td>\n",
       "      <td>0</td>\n",
       "    </tr>\n",
       "    <tr>\n",
       "      <th>1</th>\n",
       "      <td>1.0</td>\n",
       "      <td>1.0</td>\n",
       "      <td>0.9167</td>\n",
       "      <td>151.5500</td>\n",
       "      <td>0</td>\n",
       "      <td>0</td>\n",
       "      <td>0</td>\n",
       "      <td>1</td>\n",
       "      <td>0</td>\n",
       "      <td>1</td>\n",
       "    </tr>\n",
       "    <tr>\n",
       "      <th>2</th>\n",
       "      <td>1.0</td>\n",
       "      <td>0.0</td>\n",
       "      <td>2.0000</td>\n",
       "      <td>151.5500</td>\n",
       "      <td>0</td>\n",
       "      <td>0</td>\n",
       "      <td>0</td>\n",
       "      <td>1</td>\n",
       "      <td>1</td>\n",
       "      <td>0</td>\n",
       "    </tr>\n",
       "    <tr>\n",
       "      <th>3</th>\n",
       "      <td>1.0</td>\n",
       "      <td>0.0</td>\n",
       "      <td>30.0000</td>\n",
       "      <td>151.5500</td>\n",
       "      <td>0</td>\n",
       "      <td>0</td>\n",
       "      <td>0</td>\n",
       "      <td>1</td>\n",
       "      <td>0</td>\n",
       "      <td>1</td>\n",
       "    </tr>\n",
       "    <tr>\n",
       "      <th>4</th>\n",
       "      <td>1.0</td>\n",
       "      <td>0.0</td>\n",
       "      <td>25.0000</td>\n",
       "      <td>151.5500</td>\n",
       "      <td>0</td>\n",
       "      <td>0</td>\n",
       "      <td>0</td>\n",
       "      <td>1</td>\n",
       "      <td>1</td>\n",
       "      <td>0</td>\n",
       "    </tr>\n",
       "  </tbody>\n",
       "</table>\n",
       "</div>"
      ],
      "text/plain": [
       "   pclass  survived      age      fare  TravelAlone  embarked_C  embarked_Q  \\\n",
       "0     1.0       1.0  29.0000  211.3375            1           0           0   \n",
       "1     1.0       1.0   0.9167  151.5500            0           0           0   \n",
       "2     1.0       0.0   2.0000  151.5500            0           0           0   \n",
       "3     1.0       0.0  30.0000  151.5500            0           0           0   \n",
       "4     1.0       0.0  25.0000  151.5500            0           0           0   \n",
       "\n",
       "   embarked_S  sex_female  sex_male  \n",
       "0           1           1         0  \n",
       "1           1           0         1  \n",
       "2           1           1         0  \n",
       "3           1           0         1  \n",
       "4           1           1         0  "
      ]
     },
     "execution_count": 18,
     "metadata": {},
     "output_type": "execute_result"
    }
   ],
   "source": [
    "# 对 Embarked\",\"Sex\"进行独热编码, 丢弃 'name', 'ticket'\n",
    "final =pd.get_dummies(data, columns=[\"embarked\",\"sex\"])\n",
    "final.drop('name', axis=1, inplace=True)\n",
    "final.drop('ticket', axis=1, inplace=True)\n",
    "\n",
    "final.head()"
   ]
  },
  {
   "cell_type": "markdown",
   "metadata": {
    "_cell_guid": "1430d510-1c8d-4544-8009-3911fff7afbb",
    "_uuid": "4e26c19bf719b7086addc0e1981c00836a19f189"
   },
   "source": [
    "<a id=\"t3.\"></a>\n",
    "# 3. 数据分析"
   ]
  },
  {
   "cell_type": "markdown",
   "metadata": {
    "_cell_guid": "2655428b-d69d-4c0f-85ff-e31ada8e37b9",
    "_uuid": "32e9c04a3281fb1aa8c77e1406c56cd820459202"
   },
   "source": [
    "<a id=\"t3.1.\"></a>\n",
    "## 3.1. 年龄"
   ]
  },
  {
   "cell_type": "code",
   "execution_count": 19,
   "metadata": {
    "_cell_guid": "9f9ca9e5-50a0-4487-ba53-815dda90af1c",
    "_uuid": "790e8d7ca89d19e276b3398e299c42893a796b79"
   },
   "outputs": [
    {
     "name": "stderr",
     "output_type": "stream",
     "text": [
      "D:\\Anaconda3\\lib\\site-packages\\scipy\\stats\\stats.py:1713: FutureWarning: Using a non-tuple sequence for multidimensional indexing is deprecated; use `arr[tuple(seq)]` instead of `arr[seq]`. In the future this will be interpreted as an array index, `arr[np.array(seq)]`, which will result either in an error or a different result.\n",
      "  return np.add.reduce(sorted[indexer] * weights, axis=axis) / sumval\n"
     ]
    },
    {
     "data": {
      "image/png": "[encoded data removed]",
      "text/plain": [
       "<Figure size 1080x576 with 1 Axes>"
      ]
     },
     "metadata": {
      "needs_background": "light"
     },
     "output_type": "display_data"
    }
   ],
   "source": [
    "plt.figure(figsize=(15,8))\n",
    "ax = sns.kdeplot(final[\"age\"][final.survived == 1], color=\"darkturquoise\", shade=True)\n",
    "sns.kdeplot(final[\"age\"][final.survived == 0], color=\"lightcoral\", shade=True)\n",
    "plt.legend(['Survived', 'Died'])\n",
    "plt.title('Density Plot of Age for Surviving Population and Deceased Population')\n",
    "ax.set(xlabel='Age')\n",
    "plt.xlim(-10,85)\n",
    "plt.show()"
   ]
  },
  {
   "cell_type": "markdown",
   "metadata": {
    "_cell_guid": "8e304d72-27f3-41cf-863f-63872f4c37df",
    "_uuid": "6c5625b454f5e01dd6b6d843d801851c14c64d1e"
   },
   "source": [
    "### 生还与遇难群体的分布相似, 唯一大的区别是生还群体中用一部分低年龄的乘客. 说明当时的人预先保留了孩子的生还机会.\n"
   ]
  },
  {
   "cell_type": "markdown",
   "metadata": {
    "_cell_guid": "a643b196-91c6-4b12-9463-0f984fbfc91a",
    "_uuid": "337b3ced0c6423cf1d126f23a7e60c0181af6a47"
   },
   "source": [
    "<a id=\"t3.2.\"></a>\n",
    "## 3.2. 票价"
   ]
  },
  {
   "cell_type": "code",
   "execution_count": 20,
   "metadata": {
    "_cell_guid": "9f31ffe1-7cd8-4169-b193-ed44e56d0bd4",
    "_uuid": "4a1c521f08460f6983eca0c4e01294fb7c86e4f9"
   },
   "outputs": [
    {
     "data": {
      "image/png": "[encoded data removed]",
      "text/plain": [
       "<Figure size 1080x576 with 1 Axes>"
      ]
     },
     "metadata": {
      "needs_background": "light"
     },
     "output_type": "display_data"
    }
   ],
   "source": [
    "plt.figure(figsize=(15,8))\n",
    "ax = sns.kdeplot(final[\"fare\"][final.survived == 1], color=\"darkturquoise\", shade=True)\n",
    "sns.kdeplot(final[\"fare\"][final.survived == 0], color=\"lightcoral\", shade=True)\n",
    "plt.legend(['Survived', 'Died'])\n",
    "plt.title('Density Plot of Fare for Surviving Population and Deceased Population')\n",
    "ax.set(xlabel='Fare')\n",
    "plt.xlim(-20,200)\n",
    "plt.show()"
   ]
  },
  {
   "cell_type": "markdown",
   "metadata": {
    "_cell_guid": "346b7322-a3e4-48df-bbb1-4d8ec7716f3f",
    "_uuid": "2717310b6c443d675c7342be0c2c18b265723273"
   },
   "source": [
    "生还与遇难群体的票价分布差异比较大, 说明这个特征对预测乘客是否生还非常重要. 票价和仓位相关, 也许是仓位影响了逃生的效果, 我们接下来看仓位的分析."
   ]
  },
  {
   "cell_type": "markdown",
   "metadata": {
    "_cell_guid": "cf585311-4029-4be4-8af2-3eea8258801a",
    "_uuid": "4524affda51265ea23fa923e2ea7f93d7bb91875"
   },
   "source": [
    "<a id=\"t3.3.\"></a>\n",
    "## 3.3. 仓位"
   ]
  },
  {
   "cell_type": "code",
   "execution_count": 21,
   "metadata": {
    "_cell_guid": "676548e8-6dd4-4180-800c-7b164acb3877",
    "_uuid": "08fd677214959e0b938a0f8a94b63ab548673ea5"
   },
   "outputs": [
    {
     "data": {
      "image/png": "[encoded data removed]",
      "text/plain": [
       "<Figure size 432x288 with 1 Axes>"
      ]
     },
     "metadata": {
      "needs_background": "light"
     },
     "output_type": "display_data"
    }
   ],
   "source": [
    "sns.barplot('pclass', 'survived', data=df, color=\"darkturquoise\")\n",
    "plt.show()"
   ]
  },
  {
   "cell_type": "markdown",
   "metadata": {
    "_cell_guid": "193233f8-b220-4cae-aa0f-f822316d5623",
    "_uuid": "8ddb19191253a6e09dfcb0beff2b3690f1052d52"
   },
   "source": [
    "如我们所料, 一等舱的乘客生还几率最高."
   ]
  },
  {
   "cell_type": "markdown",
   "metadata": {
    "_cell_guid": "c59f8e8f-e8c2-40fb-b9c8-12dddd6d318f",
    "_uuid": "2fc06b75321946b721852f78431435f9ba5fef39"
   },
   "source": [
    "<a id=\"t3.4.\"></a>\n",
    "## 3.4. 登船地点"
   ]
  },
  {
   "cell_type": "code",
   "execution_count": 22,
   "metadata": {
    "_cell_guid": "6e5bec50-2f5e-433e-9130-c56956fddad3",
    "_uuid": "a9f0598701c7c5224eaa73dafa869af73beffe18"
   },
   "outputs": [
    {
     "data": {
      "image/png": "[encoded data removed]",
      "text/plain": [
       "<Figure size 432x288 with 1 Axes>"
      ]
     },
     "metadata": {
      "needs_background": "light"
     },
     "output_type": "display_data"
    }
   ],
   "source": [
    "sns.barplot('embarked', 'survived', data=df, color=\"teal\")\n",
    "plt.show()"
   ]
  },
  {
   "cell_type": "markdown",
   "metadata": {
    "_cell_guid": "88d78820-35a5-48fd-a234-9f3ca3fca779",
    "_uuid": "2f6a0329cf0c7b771a707ec790efc065924e1ee2"
   },
   "source": [
    "从法国 Cherbourge 登录的乘客生还率最高"
   ]
  },
  {
   "cell_type": "markdown",
   "metadata": {
    "_cell_guid": "9e6dc87e-ba59-4004-8145-79709328fe27",
    "_uuid": "92bacce85a7dec5509217b9570bc2a2fea6a8452"
   },
   "source": [
    "<a id=\"t3.5.\"></a>\n",
    "## 3.5. 是否独自成行"
   ]
  },
  {
   "cell_type": "code",
   "execution_count": 23,
   "metadata": {
    "_cell_guid": "67017a88-93d4-412b-9adf-8b4d1d9b9db0",
    "_uuid": "e0c3dc16292ef0bcabf0fc680d821ef654084ab4"
   },
   "outputs": [
    {
     "data": {
      "image/png": "[encoded data removed]",
      "text/plain": [
       "<Figure size 432x288 with 1 Axes>"
      ]
     },
     "metadata": {
      "needs_background": "light"
     },
     "output_type": "display_data"
    }
   ],
   "source": [
    "sns.barplot('TravelAlone', 'survived', data=final, color=\"mediumturquoise\")\n",
    "plt.show()"
   ]
  },
  {
   "cell_type": "markdown",
   "metadata": {
    "_cell_guid": "e9e68cef-5e74-46aa-8343-39afbbf00efe",
    "_uuid": "f160bd7399e024ae669d55f09caf6e7902768851"
   },
   "source": [
    "独自成行的乘客生还率比较低. 当时的年代, 大多数独自成行的乘客为男性居多."
   ]
  },
  {
   "cell_type": "markdown",
   "metadata": {
    "_cell_guid": "201b4c9d-b9f0-4ae9-8580-0b4e24ee62be",
    "_uuid": "693c25c25f3590f0b027725471ddd74d56f154af"
   },
   "source": [
    "<a id=\"t3.6.\"></a>\n",
    "## 3.6. 性别"
   ]
  },
  {
   "cell_type": "code",
   "execution_count": 24,
   "metadata": {
    "_cell_guid": "7b416e59-8616-4a44-93e1-a8005eff78a9",
    "_uuid": "354794315925dff1e96229cc737eaf299aaea17a"
   },
   "outputs": [
    {
     "data": {
      "image/png": "[encoded data removed]",
      "text/plain": [
       "<Figure size 432x288 with 1 Axes>"
      ]
     },
     "metadata": {
      "needs_background": "light"
     },
     "output_type": "display_data"
    }
   ],
   "source": [
    "sns.barplot('sex', 'survived', data=df, color=\"aquamarine\")\n",
    "plt.show()"
   ]
  },
  {
   "cell_type": "markdown",
   "metadata": {
    "_cell_guid": "490ed298-f0e4-466b-acc8-81280315e6a2",
    "_uuid": "80c02b9fe2151c443f189cbe44c9cacf7e5c44a4"
   },
   "source": [
    "很明显, 女性的生还率比较高"
   ]
  },
  {
   "cell_type": "markdown",
   "metadata": {
    "_cell_guid": "c833cbf5-74db-44ff-90fa-b600ff0a09d7",
    "_uuid": "39dbc095f99dcec6d25a7a4561e81bb641078622"
   },
   "source": [
    "<a id=\"t4.\"></a>\n",
    "# 4. 使用Logistic Regression做预测"
   ]
  },
  {
   "cell_type": "markdown",
   "metadata": {
    "_cell_guid": "b894002e-07cf-4d02-b708-a2ac387eed54",
    "_uuid": "e35125f8aa230d4875541aa4f6b5964d2f14a6a3"
   },
   "source": [
    "\n",
    "### 将数据集分为训练和测试数据集用于检测模型效果"
   ]
  },
  {
   "cell_type": "code",
   "execution_count": 25,
   "metadata": {
    "_cell_guid": "84233f59-f3c7-4ea0-884d-96f8ad4d5b10",
    "_uuid": "46336228eeb864bc82e6739768122579d1c9634c"
   },
   "outputs": [
    {
     "name": "stdout",
     "output_type": "stream",
     "text": [
      "Train/Test split results:\n",
      "准确率为 0.828\n"
     ]
    },
    {
     "name": "stderr",
     "output_type": "stream",
     "text": [
      "D:\\Anaconda3\\lib\\site-packages\\sklearn\\linear_model\\logistic.py:433: FutureWarning: Default solver will be changed to 'lbfgs' in 0.22. Specify a solver to silence this warning.\n",
      "  FutureWarning)\n"
     ]
    }
   ],
   "source": [
    "from sklearn.linear_model import LogisticRegression\n",
    "from sklearn.model_selection import train_test_split\n",
    "from sklearn.metrics import accuracy_score\n",
    "\n",
    "# 使用如下特征做预测\n",
    "cols = [\"age\",\"fare\",\"TravelAlone\",\"pclass\",\"embarked_C\",\"embarked_S\",\"sex_male\"] \n",
    "\n",
    "# 创建 X (特征) 和 y (类别标签)\n",
    "X = final[cols]\n",
    "y = final['survived']\n",
    "\n",
    "# 将 X 和 y 分为两个部分\n",
    "X_train, X_test, y_train, y_test = train_test_split(X, y, test_size=0.2, random_state=2)\n",
    "\n",
    "# 检测 logistic regression 模型的性能\n",
    "# TODO 添加代码:\n",
    "# 1.训练模型,  \n",
    "\n",
    "# 特征缩放\n",
    "# X_normalizer = StandardScaler() # N(0,1)\n",
    "# X_train = X_normalizer.fit_transform(X_train)\n",
    "# X_test = X_normalizer.transform(X_test)\n",
    "\n",
    "logreg = LogisticRegression()\n",
    "logreg.fit(X_train, y_train)\n",
    "\n",
    "# 2.根据模型, 以 X_test 为输入, 生成变量 y_pred\n",
    "\n",
    "y_pred = logreg.predict(X_test)\n",
    "\n",
    "print('Train/Test split results:')\n",
    "print(\"准确率为 %2.3f\" % accuracy_score(y_test, y_pred))\n"
   ]
  }
 ],
 "metadata": {
  "kernelspec": {
   "display_name": "Python 3",
   "language": "python",
   "name": "python3"
  },
  "language_info": {
   "codemirror_mode": {
    "name": "ipython",
    "version": 3
   },
   "file_extension": ".py",
   "mimetype": "text/x-python",
   "name": "python",
   "nbconvert_exporter": "python",
   "pygments_lexer": "ipython3",
   "version": "3.7.1"
  },
  "latex_envs": {
   "LaTeX_envs_menu_present": true,
   "autoclose": false,
   "autocomplete": true,
   "bibliofile": "biblio.bib",
   "cite_by": "apalike",
   "current_citInitial": 1.0,
   "eqLabelWithNumbers": true,
   "eqNumInitial": 1.0,
   "hotkeys": {
    "equation": "Ctrl-E",
    "itemize": "Ctrl-I"
   },
   "labels_anchors": false,
   "latex_user_defs": false,
   "report_style_numbering": false,
   "user_envs_cfg": false
  }
 },
 "nbformat": 4,
 "nbformat_minor": 1
}
