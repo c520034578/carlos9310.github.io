{
 "cells": [
  {
   "cell_type": "code",
   "execution_count": null,
   "metadata": {},
   "outputs": [
    {
     "name": "stdout",
     "output_type": "stream",
     "text": [
      "(800, 1200, 3)\n"
     ]
    }
   ],
   "source": [
    "%%time\n",
    "from pylab import imread,imshow,figure,show,subplot\n",
    "from numpy import reshape,uint8,flipud\n",
    "from sklearn.cluster import KMeans\n",
    "from copy import deepcopy\n",
    "\n",
    "img = imread('sample1.jpg')  # img： 图片的数据 \n",
    " \n",
    "pixel = reshape(img,(img.shape[0]*img.shape[1],3))\n",
    "pixel_new = deepcopy(pixel)\n",
    "\n",
    "print (img.shape)\n",
    "\n",
    "imshow(pixel)\n",
    "\n",
    "model = KMeans(n_clusters=5)\n",
    "labels = model.fit_predict(pixel)\n",
    "palette = model.cluster_centers_\n",
    "\n",
    "for i in range(len(pixel)):\n",
    "    pixel_new[i,:] = palette[labels[i]]\n",
    "    \n",
    "imshow(reshape(pixel_new, (img.shape[0], img.shape[1],3)))\n",
    "\n",
    "# O(KD) * # Of iterations"
   ]
  },
  {
   "cell_type": "code",
   "execution_count": null,
   "metadata": {},
   "outputs": [],
   "source": []
  }
 ],
 "metadata": {
  "kernelspec": {
   "display_name": "Python 3",
   "language": "python",
   "name": "python3"
  },
  "language_info": {
   "codemirror_mode": {
    "name": "ipython",
    "version": 3
   },
   "file_extension": ".py",
   "mimetype": "text/x-python",
   "name": "python",
   "nbconvert_exporter": "python",
   "pygments_lexer": "ipython3",
   "version": "3.7.1"
  },
  "latex_envs": {
   "LaTeX_envs_menu_present": true,
   "autoclose": false,
   "autocomplete": true,
   "bibliofile": "biblio.bib",
   "cite_by": "apalike",
   "current_citInitial": 1.0,
   "eqLabelWithNumbers": true,
   "eqNumInitial": 1.0,
   "hotkeys": {
    "equation": "Ctrl-E",
    "itemize": "Ctrl-I"
   },
   "labels_anchors": false,
   "latex_user_defs": false,
   "report_style_numbering": false,
   "user_envs_cfg": false
  }
 },
 "nbformat": 4,
 "nbformat_minor": 2
}
